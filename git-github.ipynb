{
 "cells": [
  {
   "cell_type": "markdown",
   "metadata": {
    "deletable": true,
    "editable": true
   },
   "source": [
    "# Step 1: create an account on github\n",
    "\n",
    "www.github.com"
   ]
  },
  {
   "cell_type": "markdown",
   "metadata": {
    "deletable": true,
    "editable": true
   },
   "source": [
    "# Step 2: confirm email registration\n",
    "\n",
    "check your email"
   ]
  },
  {
   "cell_type": "markdown",
   "metadata": {
    "deletable": true,
    "editable": true
   },
   "source": [
    "# Step 3: initialize git repository"
   ]
  },
  {
   "cell_type": "code",
   "execution_count": 1,
   "metadata": {
    "collapsed": false,
    "deletable": true,
    "editable": true
   },
   "outputs": [
    {
     "name": "stdout",
     "output_type": "stream",
     "text": [
      "Initialized empty Git repository in /home/1109280037/.git/\r\n"
     ]
    }
   ],
   "source": [
    "!git init"
   ]
  },
  {
   "cell_type": "code",
   "execution_count": 2,
   "metadata": {
    "collapsed": false
   },
   "outputs": [
    {
     "name": "stdout",
     "output_type": "stream",
     "text": [
      "On branch master\r\n",
      "\r\n",
      "Initial commit\r\n",
      "\r\n",
      "Untracked files:\r\n",
      "  (use \"git add <file>...\" to include in what will be committed)\r\n",
      "\r\n",
      "\t\u001b[31m.bash_logout\u001b[m\r\n",
      "\t\u001b[31m.bashrc\u001b[m\r\n",
      "\t\u001b[31m.ipynb_checkpoints/\u001b[m\r\n",
      "\t\u001b[31m.ipython/\u001b[m\r\n",
      "\t\u001b[31m.jupyter/\u001b[m\r\n",
      "\t\u001b[31m.local/\u001b[m\r\n",
      "\t\u001b[31m.profile\u001b[m\r\n",
      "\t\u001b[31m.wget-hsts\u001b[m\r\n",
      "\t\u001b[31mdata.txt\u001b[m\r\n",
      "\t\u001b[31mdata.txt.1\u001b[m\r\n",
      "\t\u001b[31mgit-github.ipynb\u001b[m\r\n",
      "\t\u001b[31mlesson1.py\u001b[m\r\n",
      "\t\u001b[31mlesson_1.ipynb\u001b[m\r\n",
      "\t\u001b[31mlesson_2.ipynb\u001b[m\r\n",
      "\t\u001b[31mlesson_3.ipynb\u001b[m\r\n",
      "\t\u001b[31mlesson_4.ipynb\u001b[m\r\n",
      "\t\u001b[31mtobe.txt\u001b[m\r\n",
      "\t\u001b[31mtumo-tf/\u001b[m\r\n",
      "\t\u001b[31muntitled.txt\u001b[m\r\n",
      "\t\u001b[31mwrite_ready.py\u001b[m\r\n",
      "\r\n",
      "nothing added to commit but untracked files present (use \"git add\" to track)\r\n"
     ]
    }
   ],
   "source": [
    "!git status"
   ]
  },
  {
   "cell_type": "markdown",
   "metadata": {
    "deletable": true,
    "editable": true
   },
   "source": [
    "# Step 4: adjust your username and email configuration"
   ]
  },
  {
   "cell_type": "code",
   "execution_count": 4,
   "metadata": {
    "collapsed": true,
    "deletable": true,
    "editable": true
   },
   "outputs": [],
   "source": [
    "!git config --global user.name \"hovhannespetrosyan\""
   ]
  },
  {
   "cell_type": "code",
   "execution_count": 5,
   "metadata": {
    "collapsed": true,
    "deletable": true,
    "editable": true
   },
   "outputs": [],
   "source": [
    "!git config --global user.email \"hovhannes.petrosyan@tumo.org\""
   ]
  },
  {
   "cell_type": "markdown",
   "metadata": {
    "deletable": true,
    "editable": true
   },
   "source": [
    "# Step 5: create a .gitignore file"
   ]
  },
  {
   "cell_type": "code",
   "execution_count": 6,
   "metadata": {
    "collapsed": false,
    "deletable": true,
    "editable": true
   },
   "outputs": [
    {
     "name": "stdout",
     "output_type": "stream",
     "text": [
      "Writing .gitignore\n"
     ]
    }
   ],
   "source": [
    "%%writefile .gitignore\n",
    ".*\n",
    "!/.gitignore"
   ]
  },
  {
   "cell_type": "code",
   "execution_count": 7,
   "metadata": {
    "collapsed": false
   },
   "outputs": [
    {
     "name": "stdout",
     "output_type": "stream",
     "text": [
      ".*\r\n",
      "!/.gitignore"
     ]
    }
   ],
   "source": [
    "!cat .gitignore"
   ]
  },
  {
   "cell_type": "code",
   "execution_count": 8,
   "metadata": {
    "collapsed": false
   },
   "outputs": [
    {
     "name": "stdout",
     "output_type": "stream",
     "text": [
      "On branch master\r\n",
      "\r\n",
      "Initial commit\r\n",
      "\r\n",
      "Untracked files:\r\n",
      "  (use \"git add <file>...\" to include in what will be committed)\r\n",
      "\r\n",
      "\t\u001b[31m.gitignore\u001b[m\r\n",
      "\t\u001b[31mdata.txt\u001b[m\r\n",
      "\t\u001b[31mdata.txt.1\u001b[m\r\n",
      "\t\u001b[31mgit-github.ipynb\u001b[m\r\n",
      "\t\u001b[31mlesson1.py\u001b[m\r\n",
      "\t\u001b[31mlesson_1.ipynb\u001b[m\r\n",
      "\t\u001b[31mlesson_2.ipynb\u001b[m\r\n",
      "\t\u001b[31mlesson_3.ipynb\u001b[m\r\n",
      "\t\u001b[31mlesson_4.ipynb\u001b[m\r\n",
      "\t\u001b[31mtobe.txt\u001b[m\r\n",
      "\t\u001b[31mtumo-tf/\u001b[m\r\n",
      "\t\u001b[31muntitled.txt\u001b[m\r\n",
      "\t\u001b[31mwrite_ready.py\u001b[m\r\n",
      "\r\n",
      "nothing added to commit but untracked files present (use \"git add\" to track)\r\n"
     ]
    }
   ],
   "source": [
    "!git status"
   ]
  },
  {
   "cell_type": "markdown",
   "metadata": {
    "deletable": true,
    "editable": true
   },
   "source": [
    "# Step 6: add all files with ipynb and py endings"
   ]
  },
  {
   "cell_type": "code",
   "execution_count": 9,
   "metadata": {
    "collapsed": true,
    "deletable": true,
    "editable": true
   },
   "outputs": [],
   "source": [
    "!git add ./\\*.ipynb"
   ]
  },
  {
   "cell_type": "code",
   "execution_count": 10,
   "metadata": {
    "collapsed": true,
    "deletable": true,
    "editable": true
   },
   "outputs": [],
   "source": [
    "!git add ./\\*.py"
   ]
  },
  {
   "cell_type": "raw",
   "metadata": {
    "deletable": true,
    "editable": true
   },
   "source": [
    "# general command\n",
    "git add filename1, filename2, ..., filenameN"
   ]
  },
  {
   "cell_type": "code",
   "execution_count": 11,
   "metadata": {
    "collapsed": false
   },
   "outputs": [
    {
     "name": "stdout",
     "output_type": "stream",
     "text": [
      "On branch master\r\n",
      "\r\n",
      "Initial commit\r\n",
      "\r\n",
      "Changes to be committed:\r\n",
      "  (use \"git rm --cached <file>...\" to unstage)\r\n",
      "\r\n",
      "\t\u001b[32mnew file:   git-github.ipynb\u001b[m\r\n",
      "\t\u001b[32mnew file:   lesson1.py\u001b[m\r\n",
      "\t\u001b[32mnew file:   lesson_1.ipynb\u001b[m\r\n",
      "\t\u001b[32mnew file:   lesson_2.ipynb\u001b[m\r\n",
      "\t\u001b[32mnew file:   lesson_3.ipynb\u001b[m\r\n",
      "\t\u001b[32mnew file:   lesson_4.ipynb\u001b[m\r\n",
      "\t\u001b[32mnew file:   write_ready.py\u001b[m\r\n",
      "\r\n",
      "Untracked files:\r\n",
      "  (use \"git add <file>...\" to include in what will be committed)\r\n",
      "\r\n",
      "\t\u001b[31m.gitignore\u001b[m\r\n",
      "\t\u001b[31mdata.txt\u001b[m\r\n",
      "\t\u001b[31mdata.txt.1\u001b[m\r\n",
      "\t\u001b[31mtobe.txt\u001b[m\r\n",
      "\t\u001b[31mtumo-tf/\u001b[m\r\n",
      "\t\u001b[31muntitled.txt\u001b[m\r\n",
      "\r\n"
     ]
    }
   ],
   "source": [
    "!git status"
   ]
  },
  {
   "cell_type": "code",
   "execution_count": 12,
   "metadata": {
    "collapsed": true
   },
   "outputs": [],
   "source": [
    "!git add .gitignore"
   ]
  },
  {
   "cell_type": "code",
   "execution_count": 13,
   "metadata": {
    "collapsed": false
   },
   "outputs": [
    {
     "name": "stdout",
     "output_type": "stream",
     "text": [
      "On branch master\r\n",
      "\r\n",
      "Initial commit\r\n",
      "\r\n",
      "Changes to be committed:\r\n",
      "  (use \"git rm --cached <file>...\" to unstage)\r\n",
      "\r\n",
      "\t\u001b[32mnew file:   .gitignore\u001b[m\r\n",
      "\t\u001b[32mnew file:   git-github.ipynb\u001b[m\r\n",
      "\t\u001b[32mnew file:   lesson1.py\u001b[m\r\n",
      "\t\u001b[32mnew file:   lesson_1.ipynb\u001b[m\r\n",
      "\t\u001b[32mnew file:   lesson_2.ipynb\u001b[m\r\n",
      "\t\u001b[32mnew file:   lesson_3.ipynb\u001b[m\r\n",
      "\t\u001b[32mnew file:   lesson_4.ipynb\u001b[m\r\n",
      "\t\u001b[32mnew file:   write_ready.py\u001b[m\r\n",
      "\r\n",
      "Changes not staged for commit:\r\n",
      "  (use \"git add <file>...\" to update what will be committed)\r\n",
      "  (use \"git checkout -- <file>...\" to discard changes in working directory)\r\n",
      "\r\n",
      "\t\u001b[31mmodified:   git-github.ipynb\u001b[m\r\n",
      "\r\n",
      "Untracked files:\r\n",
      "  (use \"git add <file>...\" to include in what will be committed)\r\n",
      "\r\n",
      "\t\u001b[31mdata.txt\u001b[m\r\n",
      "\t\u001b[31mdata.txt.1\u001b[m\r\n",
      "\t\u001b[31mtobe.txt\u001b[m\r\n",
      "\t\u001b[31mtumo-tf/\u001b[m\r\n",
      "\t\u001b[31muntitled.txt\u001b[m\r\n",
      "\r\n"
     ]
    }
   ],
   "source": [
    "!git status"
   ]
  },
  {
   "cell_type": "markdown",
   "metadata": {
    "deletable": true,
    "editable": true
   },
   "source": [
    "# Step 7: commit added files"
   ]
  },
  {
   "cell_type": "code",
   "execution_count": 14,
   "metadata": {
    "collapsed": false,
    "deletable": true,
    "editable": true
   },
   "outputs": [
    {
     "name": "stdout",
     "output_type": "stream",
     "text": [
      "[master (root-commit) d9a4aee] first commit\r\n",
      " 8 files changed, 6055 insertions(+)\r\n",
      " create mode 100644 .gitignore\r\n",
      " create mode 100644 git-github.ipynb\r\n",
      " create mode 100644 lesson1.py\r\n",
      " create mode 100644 lesson_1.ipynb\r\n",
      " create mode 100644 lesson_2.ipynb\r\n",
      " create mode 100644 lesson_3.ipynb\r\n",
      " create mode 100644 lesson_4.ipynb\r\n",
      " create mode 100644 write_ready.py\r\n"
     ]
    }
   ],
   "source": [
    "!git commit -m \"first commit\""
   ]
  },
  {
   "cell_type": "markdown",
   "metadata": {
    "deletable": true,
    "editable": true
   },
   "source": [
    "# Step 8: push your repository to github"
   ]
  },
  {
   "cell_type": "code",
   "execution_count": null,
   "metadata": {
    "collapsed": true,
    "deletable": true,
    "editable": true
   },
   "outputs": [],
   "source": [
    "!git remote add origin https://github.com/your-github-username/tumo-tf.git"
   ]
  },
  {
   "cell_type": "raw",
   "metadata": {
    "deletable": true,
    "editable": true
   },
   "source": [
    "# run this command from terminal\n",
    "git push -u origin master"
   ]
  },
  {
   "cell_type": "code",
   "execution_count": 15,
   "metadata": {
    "collapsed": true,
    "deletable": true,
    "editable": true
   },
   "outputs": [],
   "source": [
    "!git remote add origin https://github.com/hovhannespetrosyan/tensorFlow.git"
   ]
  },
  {
   "cell_type": "code",
   "execution_count": 16,
   "metadata": {
    "collapsed": false
   },
   "outputs": [
    {
     "name": "stdout",
     "output_type": "stream",
     "text": [
      "On branch master\r\n",
      "Your branch is up-to-date with 'origin/master'.\r\n",
      "Changes not staged for commit:\r\n",
      "  (use \"git add <file>...\" to update what will be committed)\r\n",
      "  (use \"git checkout -- <file>...\" to discard changes in working directory)\r\n",
      "\r\n",
      "\t\u001b[31mmodified:   git-github.ipynb\u001b[m\r\n",
      "\t\u001b[31mmodified:   lesson_4.ipynb\u001b[m\r\n",
      "\r\n",
      "Untracked files:\r\n",
      "  (use \"git add <file>...\" to include in what will be committed)\r\n",
      "\r\n",
      "\t\u001b[31mdata.txt\u001b[m\r\n",
      "\t\u001b[31mdata.txt.1\u001b[m\r\n",
      "\t\u001b[31mtobe.txt\u001b[m\r\n",
      "\t\u001b[31mtumo-tf/\u001b[m\r\n",
      "\t\u001b[31muntitled.txt\u001b[m\r\n",
      "\r\n",
      "no changes added to commit (use \"git add\" and/or \"git commit -a\")\r\n"
     ]
    }
   ],
   "source": [
    "!git status"
   ]
  },
  {
   "cell_type": "code",
   "execution_count": 17,
   "metadata": {
    "collapsed": true
   },
   "outputs": [],
   "source": [
    "!git add -u # add only modified files"
   ]
  },
  {
   "cell_type": "code",
   "execution_count": 18,
   "metadata": {
    "collapsed": false
   },
   "outputs": [
    {
     "name": "stdout",
     "output_type": "stream",
     "text": [
      "On branch master\r\n",
      "Your branch is up-to-date with 'origin/master'.\r\n",
      "Changes to be committed:\r\n",
      "  (use \"git reset HEAD <file>...\" to unstage)\r\n",
      "\r\n",
      "\t\u001b[32mmodified:   git-github.ipynb\u001b[m\r\n",
      "\t\u001b[32mmodified:   lesson_4.ipynb\u001b[m\r\n",
      "\r\n",
      "Untracked files:\r\n",
      "  (use \"git add <file>...\" to include in what will be committed)\r\n",
      "\r\n",
      "\t\u001b[31mdata.txt\u001b[m\r\n",
      "\t\u001b[31mdata.txt.1\u001b[m\r\n",
      "\t\u001b[31mtobe.txt\u001b[m\r\n",
      "\t\u001b[31mtumo-tf/\u001b[m\r\n",
      "\t\u001b[31muntitled.txt\u001b[m\r\n",
      "\r\n"
     ]
    }
   ],
   "source": [
    "!git status"
   ]
  },
  {
   "cell_type": "code",
   "execution_count": 19,
   "metadata": {
    "collapsed": false
   },
   "outputs": [
    {
     "name": "stdout",
     "output_type": "stream",
     "text": [
      "[master b9c46e4] adding changes\r\n",
      " 2 files changed, 188 insertions(+), 7 deletions(-)\r\n"
     ]
    }
   ],
   "source": [
    "!git commit -m \"adding changes\""
   ]
  },
  {
   "cell_type": "code",
   "execution_count": null,
   "metadata": {
    "collapsed": true
   },
   "outputs": [],
   "source": []
  }
 ],
 "metadata": {
  "kernelspec": {
   "display_name": "Python 3",
   "language": "python",
   "name": "python3"
  },
  "language_info": {
   "codemirror_mode": {
    "name": "ipython",
    "version": 3
   },
   "file_extension": ".py",
   "mimetype": "text/x-python",
   "name": "python",
   "nbconvert_exporter": "python",
   "pygments_lexer": "ipython3",
   "version": "3.6.0"
  }
 },
 "nbformat": 4,
 "nbformat_minor": 2
}
